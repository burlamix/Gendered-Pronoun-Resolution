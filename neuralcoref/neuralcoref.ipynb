{
 "cells": [
  {
   "cell_type": "markdown",
   "metadata": {},
   "source": [
    "# Neuralcoref for Gendered pronoun resolution\n"
   ]
  },
  {
   "cell_type": "markdown",
   "metadata": {},
   "source": [
    "## Import libraries"
   ]
  },
  {
   "cell_type": "code",
   "execution_count": 54,
   "metadata": {},
   "outputs": [],
   "source": [
    "import csv\n",
    "import logging;\n",
    "logging.basicConfig(level=logging.INFO)\n",
    "import spacy\n",
    "import neuralcoref\n",
    "import pandas as pd\n",
    "import gap_scorer"
   ]
  },
  {
   "cell_type": "markdown",
   "metadata": {},
   "source": [
    "## Load datasets"
   ]
  },
  {
   "cell_type": "markdown",
   "metadata": {},
   "source": [
    "### Development dataset"
   ]
  },
  {
   "cell_type": "code",
   "execution_count": 2,
   "metadata": {},
   "outputs": [
    {
     "data": {
      "text/html": [
       "<div>\n",
       "<style scoped>\n",
       "    .dataframe tbody tr th:only-of-type {\n",
       "        vertical-align: middle;\n",
       "    }\n",
       "\n",
       "    .dataframe tbody tr th {\n",
       "        vertical-align: top;\n",
       "    }\n",
       "\n",
       "    .dataframe thead th {\n",
       "        text-align: right;\n",
       "    }\n",
       "</style>\n",
       "<table border=\"1\" class=\"dataframe\">\n",
       "  <thead>\n",
       "    <tr style=\"text-align: right;\">\n",
       "      <th></th>\n",
       "      <th>ID</th>\n",
       "      <th>Text</th>\n",
       "      <th>Pronoun</th>\n",
       "      <th>Pronoun-offset</th>\n",
       "      <th>A</th>\n",
       "      <th>A-offset</th>\n",
       "      <th>A-coref</th>\n",
       "      <th>B</th>\n",
       "      <th>B-offset</th>\n",
       "      <th>B-coref</th>\n",
       "      <th>URL</th>\n",
       "    </tr>\n",
       "  </thead>\n",
       "  <tbody>\n",
       "    <tr>\n",
       "      <th>0</th>\n",
       "      <td>development-1</td>\n",
       "      <td>zoe telford -- played the police officer girlf...</td>\n",
       "      <td>her</td>\n",
       "      <td>274</td>\n",
       "      <td>cheryl cassidy</td>\n",
       "      <td>191</td>\n",
       "      <td>True</td>\n",
       "      <td>pauline</td>\n",
       "      <td>207</td>\n",
       "      <td>False</td>\n",
       "      <td>http://en.wikipedia.org/wiki/List_of_Teachers_...</td>\n",
       "    </tr>\n",
       "    <tr>\n",
       "      <th>1</th>\n",
       "      <td>development-2</td>\n",
       "      <td>he grew up in evanston, illinois the second ol...</td>\n",
       "      <td>his</td>\n",
       "      <td>284</td>\n",
       "      <td>mackenzie</td>\n",
       "      <td>228</td>\n",
       "      <td>True</td>\n",
       "      <td>bernard leach</td>\n",
       "      <td>251</td>\n",
       "      <td>False</td>\n",
       "      <td>http://en.wikipedia.org/wiki/Warren_MacKenzie</td>\n",
       "    </tr>\n",
       "    <tr>\n",
       "      <th>2</th>\n",
       "      <td>development-3</td>\n",
       "      <td>he had been reelected to congress, but resigne...</td>\n",
       "      <td>his</td>\n",
       "      <td>265</td>\n",
       "      <td>angeloz</td>\n",
       "      <td>173</td>\n",
       "      <td>False</td>\n",
       "      <td>de la sota</td>\n",
       "      <td>246</td>\n",
       "      <td>True</td>\n",
       "      <td>http://en.wikipedia.org/wiki/Jos%C3%A9_Manuel_...</td>\n",
       "    </tr>\n",
       "    <tr>\n",
       "      <th>3</th>\n",
       "      <td>development-4</td>\n",
       "      <td>the current members of crime have also perform...</td>\n",
       "      <td>his</td>\n",
       "      <td>321</td>\n",
       "      <td>hell</td>\n",
       "      <td>174</td>\n",
       "      <td>False</td>\n",
       "      <td>henry rosenthal</td>\n",
       "      <td>336</td>\n",
       "      <td>True</td>\n",
       "      <td>http://en.wikipedia.org/wiki/Crime_(band)</td>\n",
       "    </tr>\n",
       "    <tr>\n",
       "      <th>4</th>\n",
       "      <td>development-5</td>\n",
       "      <td>her santa fe opera debut in 2005 was as nuria ...</td>\n",
       "      <td>she</td>\n",
       "      <td>437</td>\n",
       "      <td>kitty oppenheimer</td>\n",
       "      <td>219</td>\n",
       "      <td>False</td>\n",
       "      <td>rivera</td>\n",
       "      <td>294</td>\n",
       "      <td>True</td>\n",
       "      <td>http://en.wikipedia.org/wiki/Jessica_Rivera</td>\n",
       "    </tr>\n",
       "  </tbody>\n",
       "</table>\n",
       "</div>"
      ],
      "text/plain": [
       "              ID                                               Text Pronoun  \\\n",
       "0  development-1  zoe telford -- played the police officer girlf...     her   \n",
       "1  development-2  he grew up in evanston, illinois the second ol...     his   \n",
       "2  development-3  he had been reelected to congress, but resigne...     his   \n",
       "3  development-4  the current members of crime have also perform...     his   \n",
       "4  development-5  her santa fe opera debut in 2005 was as nuria ...     she   \n",
       "\n",
       "   Pronoun-offset                  A  A-offset  A-coref                B  \\\n",
       "0             274     cheryl cassidy       191     True          pauline   \n",
       "1             284          mackenzie       228     True    bernard leach   \n",
       "2             265            angeloz       173    False       de la sota   \n",
       "3             321               hell       174    False  henry rosenthal   \n",
       "4             437  kitty oppenheimer       219    False           rivera   \n",
       "\n",
       "   B-offset  B-coref                                                URL  \n",
       "0       207    False  http://en.wikipedia.org/wiki/List_of_Teachers_...  \n",
       "1       251    False      http://en.wikipedia.org/wiki/Warren_MacKenzie  \n",
       "2       246     True  http://en.wikipedia.org/wiki/Jos%C3%A9_Manuel_...  \n",
       "3       336     True          http://en.wikipedia.org/wiki/Crime_(band)  \n",
       "4       294     True        http://en.wikipedia.org/wiki/Jessica_Rivera  "
      ]
     },
     "execution_count": 2,
     "metadata": {},
     "output_type": "execute_result"
    }
   ],
   "source": [
    "gap_development = pd.read_csv('gap-development.tsv', sep=\"\\t\")\n",
    "for x in [\"Text\", \"Pronoun\", \"A\", \"B\"]:\n",
    "    gap_development[x] = gap_development[x].str.lower()\n",
    "gap_development.head()"
   ]
  },
  {
   "cell_type": "code",
   "execution_count": 3,
   "metadata": {},
   "outputs": [
    {
     "name": "stdout",
     "output_type": "stream",
     "text": [
      "TOTAL ROW \t\t 201\n",
      "A = False & B = False \t 201\n",
      "A = False & B = True  \t 925\n",
      "A = True  & B = False \t 874\n",
      "A = True  & B = True  \t 0\n",
      "------------------------------\n",
      "TOTAL ROW \t\t 2000\n"
     ]
    }
   ],
   "source": [
    "gap_development_A_coref = (gap_development[\"A-coref\"] == True)\n",
    "gap_development_B_coref = (gap_development[\"B-coref\"] == True)\n",
    "\n",
    "print(\"TOTAL ROW\", \"\\t\\t\", len(gap_development[~gap_development_A_coref & ~gap_development_B_coref]))\n",
    "print(\"A = False & B = False\", \"\\t\", len(gap_development[~gap_development_A_coref & ~gap_development_B_coref]))\n",
    "print(\"A = False & B = True \", \"\\t\", len(gap_development[~gap_development_A_coref &  gap_development_B_coref]))\n",
    "print(\"A = True  & B = False\", \"\\t\", len(gap_development[ gap_development_A_coref & ~gap_development_B_coref]))\n",
    "print(\"A = True  & B = True \", \"\\t\", len(gap_development[ gap_development_A_coref &  gap_development_B_coref]))\n",
    "print(\"------------------------------\")\n",
    "print(\"TOTAL ROW\", \"\\t\\t\", len(gap_development))"
   ]
  },
  {
   "cell_type": "code",
   "execution_count": 4,
   "metadata": {},
   "outputs": [
    {
     "data": {
      "text/plain": [
       "{'he', 'her', 'him', 'his', 'she'}"
      ]
     },
     "execution_count": 4,
     "metadata": {},
     "output_type": "execute_result"
    }
   ],
   "source": [
    "set(gap_development[\"Pronoun\"])"
   ]
  },
  {
   "cell_type": "markdown",
   "metadata": {},
   "source": [
    "### Validation dataset"
   ]
  },
  {
   "cell_type": "code",
   "execution_count": 5,
   "metadata": {},
   "outputs": [
    {
     "data": {
      "text/html": [
       "<div>\n",
       "<style scoped>\n",
       "    .dataframe tbody tr th:only-of-type {\n",
       "        vertical-align: middle;\n",
       "    }\n",
       "\n",
       "    .dataframe tbody tr th {\n",
       "        vertical-align: top;\n",
       "    }\n",
       "\n",
       "    .dataframe thead th {\n",
       "        text-align: right;\n",
       "    }\n",
       "</style>\n",
       "<table border=\"1\" class=\"dataframe\">\n",
       "  <thead>\n",
       "    <tr style=\"text-align: right;\">\n",
       "      <th></th>\n",
       "      <th>ID</th>\n",
       "      <th>Text</th>\n",
       "      <th>Pronoun</th>\n",
       "      <th>Pronoun-offset</th>\n",
       "      <th>A</th>\n",
       "      <th>A-offset</th>\n",
       "      <th>A-coref</th>\n",
       "      <th>B</th>\n",
       "      <th>B-offset</th>\n",
       "      <th>B-coref</th>\n",
       "      <th>URL</th>\n",
       "    </tr>\n",
       "  </thead>\n",
       "  <tbody>\n",
       "    <tr>\n",
       "      <th>0</th>\n",
       "      <td>validation-1</td>\n",
       "      <td>he admitted making four trips to china and pla...</td>\n",
       "      <td>him</td>\n",
       "      <td>256</td>\n",
       "      <td>jose de venecia jr</td>\n",
       "      <td>208</td>\n",
       "      <td>False</td>\n",
       "      <td>abalos</td>\n",
       "      <td>241</td>\n",
       "      <td>False</td>\n",
       "      <td>http://en.wikipedia.org/wiki/Commission_on_Ele...</td>\n",
       "    </tr>\n",
       "    <tr>\n",
       "      <th>1</th>\n",
       "      <td>validation-2</td>\n",
       "      <td>kathleen nott was born in camberwell, london. ...</td>\n",
       "      <td>she</td>\n",
       "      <td>185</td>\n",
       "      <td>ellen</td>\n",
       "      <td>110</td>\n",
       "      <td>False</td>\n",
       "      <td>kathleen</td>\n",
       "      <td>150</td>\n",
       "      <td>True</td>\n",
       "      <td>http://en.wikipedia.org/wiki/Kathleen_Nott</td>\n",
       "    </tr>\n",
       "    <tr>\n",
       "      <th>2</th>\n",
       "      <td>validation-3</td>\n",
       "      <td>when she returns to her hotel room, a liberian...</td>\n",
       "      <td>his</td>\n",
       "      <td>435</td>\n",
       "      <td>jason scott lee</td>\n",
       "      <td>383</td>\n",
       "      <td>False</td>\n",
       "      <td>danny</td>\n",
       "      <td>406</td>\n",
       "      <td>True</td>\n",
       "      <td>http://en.wikipedia.org/wiki/Hawaii_Five-0_(20...</td>\n",
       "    </tr>\n",
       "    <tr>\n",
       "      <th>3</th>\n",
       "      <td>validation-4</td>\n",
       "      <td>on 19 march 2007, during a campaign appearance...</td>\n",
       "      <td>he</td>\n",
       "      <td>333</td>\n",
       "      <td>reucassel</td>\n",
       "      <td>300</td>\n",
       "      <td>True</td>\n",
       "      <td>debnam</td>\n",
       "      <td>325</td>\n",
       "      <td>False</td>\n",
       "      <td>http://en.wikipedia.org/wiki/Craig_Reucassel</td>\n",
       "    </tr>\n",
       "    <tr>\n",
       "      <th>4</th>\n",
       "      <td>validation-5</td>\n",
       "      <td>by this time, karen blixen had separated from ...</td>\n",
       "      <td>she</td>\n",
       "      <td>427</td>\n",
       "      <td>finch hatton</td>\n",
       "      <td>290</td>\n",
       "      <td>False</td>\n",
       "      <td>beryl markham</td>\n",
       "      <td>328</td>\n",
       "      <td>True</td>\n",
       "      <td>http://en.wikipedia.org/wiki/Denys_Finch_Hatton</td>\n",
       "    </tr>\n",
       "  </tbody>\n",
       "</table>\n",
       "</div>"
      ],
      "text/plain": [
       "             ID                                               Text Pronoun  \\\n",
       "0  validation-1  he admitted making four trips to china and pla...     him   \n",
       "1  validation-2  kathleen nott was born in camberwell, london. ...     she   \n",
       "2  validation-3  when she returns to her hotel room, a liberian...     his   \n",
       "3  validation-4  on 19 march 2007, during a campaign appearance...      he   \n",
       "4  validation-5  by this time, karen blixen had separated from ...     she   \n",
       "\n",
       "   Pronoun-offset                   A  A-offset  A-coref              B  \\\n",
       "0             256  jose de venecia jr       208    False         abalos   \n",
       "1             185               ellen       110    False       kathleen   \n",
       "2             435     jason scott lee       383    False          danny   \n",
       "3             333           reucassel       300     True         debnam   \n",
       "4             427        finch hatton       290    False  beryl markham   \n",
       "\n",
       "   B-offset  B-coref                                                URL  \n",
       "0       241    False  http://en.wikipedia.org/wiki/Commission_on_Ele...  \n",
       "1       150     True         http://en.wikipedia.org/wiki/Kathleen_Nott  \n",
       "2       406     True  http://en.wikipedia.org/wiki/Hawaii_Five-0_(20...  \n",
       "3       325    False       http://en.wikipedia.org/wiki/Craig_Reucassel  \n",
       "4       328     True    http://en.wikipedia.org/wiki/Denys_Finch_Hatton  "
      ]
     },
     "execution_count": 5,
     "metadata": {},
     "output_type": "execute_result"
    }
   ],
   "source": [
    "gap_validation = pd.read_csv('gap-validation.tsv', sep=\"\\t\")\n",
    "for x in [\"Text\", \"Pronoun\", \"A\", \"B\"]:\n",
    "    gap_validation[x] = gap_validation[x].str.lower()\n",
    "gap_validation.head()"
   ]
  },
  {
   "cell_type": "code",
   "execution_count": 6,
   "metadata": {},
   "outputs": [
    {
     "name": "stdout",
     "output_type": "stream",
     "text": [
      "A = False & B = False \t 62\n",
      "A = False & B = True  \t 205\n",
      "A = True  & B = False \t 187\n",
      "A = True  & B = True  \t 0\n",
      "------------------------------\n",
      "TOTAL ROW \t\t 454\n"
     ]
    }
   ],
   "source": [
    "gap_validation_A_coref = (gap_validation[\"A-coref\"] == True)\n",
    "gap_validation_B_coref = (gap_validation[\"B-coref\"] == True)\n",
    "\n",
    "print(\"A = False & B = False\", \"\\t\", len(gap_validation[~gap_validation_A_coref & ~gap_validation_B_coref]))\n",
    "print(\"A = False & B = True \", \"\\t\", len(gap_validation[~gap_validation_A_coref &  gap_validation_B_coref]))\n",
    "print(\"A = True  & B = False\", \"\\t\", len(gap_validation[ gap_validation_A_coref & ~gap_validation_B_coref]))\n",
    "print(\"A = True  & B = True \", \"\\t\", len(gap_validation[ gap_validation_A_coref &  gap_validation_B_coref]))\n",
    "print(\"------------------------------\")\n",
    "print(\"TOTAL ROW\", \"\\t\\t\", len(gap_validation))"
   ]
  },
  {
   "cell_type": "code",
   "execution_count": 7,
   "metadata": {},
   "outputs": [
    {
     "data": {
      "text/plain": [
       "{'he', 'her', 'him', 'his', 'she'}"
      ]
     },
     "execution_count": 7,
     "metadata": {},
     "output_type": "execute_result"
    }
   ],
   "source": [
    "set(gap_validation[\"Pronoun\"])"
   ]
  },
  {
   "cell_type": "markdown",
   "metadata": {},
   "source": [
    "### Stage 1 dataset"
   ]
  },
  {
   "cell_type": "code",
   "execution_count": 8,
   "metadata": {},
   "outputs": [
    {
     "data": {
      "text/html": [
       "<div>\n",
       "<style scoped>\n",
       "    .dataframe tbody tr th:only-of-type {\n",
       "        vertical-align: middle;\n",
       "    }\n",
       "\n",
       "    .dataframe tbody tr th {\n",
       "        vertical-align: top;\n",
       "    }\n",
       "\n",
       "    .dataframe thead th {\n",
       "        text-align: right;\n",
       "    }\n",
       "</style>\n",
       "<table border=\"1\" class=\"dataframe\">\n",
       "  <thead>\n",
       "    <tr style=\"text-align: right;\">\n",
       "      <th></th>\n",
       "      <th>ID</th>\n",
       "      <th>Text</th>\n",
       "      <th>Pronoun</th>\n",
       "      <th>Pronoun-offset</th>\n",
       "      <th>A</th>\n",
       "      <th>A-offset</th>\n",
       "      <th>B</th>\n",
       "      <th>B-offset</th>\n",
       "      <th>URL</th>\n",
       "    </tr>\n",
       "  </thead>\n",
       "  <tbody>\n",
       "    <tr>\n",
       "      <th>0</th>\n",
       "      <td>development-1</td>\n",
       "      <td>zoe telford -- played the police officer girlf...</td>\n",
       "      <td>her</td>\n",
       "      <td>274</td>\n",
       "      <td>cheryl cassidy</td>\n",
       "      <td>191</td>\n",
       "      <td>pauline</td>\n",
       "      <td>207</td>\n",
       "      <td>http://en.wikipedia.org/wiki/List_of_Teachers_...</td>\n",
       "    </tr>\n",
       "    <tr>\n",
       "      <th>1</th>\n",
       "      <td>development-2</td>\n",
       "      <td>he grew up in evanston, illinois the second ol...</td>\n",
       "      <td>his</td>\n",
       "      <td>284</td>\n",
       "      <td>mackenzie</td>\n",
       "      <td>228</td>\n",
       "      <td>bernard leach</td>\n",
       "      <td>251</td>\n",
       "      <td>http://en.wikipedia.org/wiki/Warren_MacKenzie</td>\n",
       "    </tr>\n",
       "    <tr>\n",
       "      <th>2</th>\n",
       "      <td>development-3</td>\n",
       "      <td>he had been reelected to congress, but resigne...</td>\n",
       "      <td>his</td>\n",
       "      <td>265</td>\n",
       "      <td>angeloz</td>\n",
       "      <td>173</td>\n",
       "      <td>de la sota</td>\n",
       "      <td>246</td>\n",
       "      <td>http://en.wikipedia.org/wiki/Jos%C3%A9_Manuel_...</td>\n",
       "    </tr>\n",
       "    <tr>\n",
       "      <th>3</th>\n",
       "      <td>development-4</td>\n",
       "      <td>the current members of crime have also perform...</td>\n",
       "      <td>his</td>\n",
       "      <td>321</td>\n",
       "      <td>hell</td>\n",
       "      <td>174</td>\n",
       "      <td>henry rosenthal</td>\n",
       "      <td>336</td>\n",
       "      <td>http://en.wikipedia.org/wiki/Crime_(band)</td>\n",
       "    </tr>\n",
       "    <tr>\n",
       "      <th>4</th>\n",
       "      <td>development-5</td>\n",
       "      <td>her santa fe opera debut in 2005 was as nuria ...</td>\n",
       "      <td>she</td>\n",
       "      <td>437</td>\n",
       "      <td>kitty oppenheimer</td>\n",
       "      <td>219</td>\n",
       "      <td>rivera</td>\n",
       "      <td>294</td>\n",
       "      <td>http://en.wikipedia.org/wiki/Jessica_Rivera</td>\n",
       "    </tr>\n",
       "  </tbody>\n",
       "</table>\n",
       "</div>"
      ],
      "text/plain": [
       "              ID                                               Text Pronoun  \\\n",
       "0  development-1  zoe telford -- played the police officer girlf...     her   \n",
       "1  development-2  he grew up in evanston, illinois the second ol...     his   \n",
       "2  development-3  he had been reelected to congress, but resigne...     his   \n",
       "3  development-4  the current members of crime have also perform...     his   \n",
       "4  development-5  her santa fe opera debut in 2005 was as nuria ...     she   \n",
       "\n",
       "   Pronoun-offset                  A  A-offset                B  B-offset  \\\n",
       "0             274     cheryl cassidy       191          pauline       207   \n",
       "1             284          mackenzie       228    bernard leach       251   \n",
       "2             265            angeloz       173       de la sota       246   \n",
       "3             321               hell       174  henry rosenthal       336   \n",
       "4             437  kitty oppenheimer       219           rivera       294   \n",
       "\n",
       "                                                 URL  \n",
       "0  http://en.wikipedia.org/wiki/List_of_Teachers_...  \n",
       "1      http://en.wikipedia.org/wiki/Warren_MacKenzie  \n",
       "2  http://en.wikipedia.org/wiki/Jos%C3%A9_Manuel_...  \n",
       "3          http://en.wikipedia.org/wiki/Crime_(band)  \n",
       "4        http://en.wikipedia.org/wiki/Jessica_Rivera  "
      ]
     },
     "execution_count": 8,
     "metadata": {},
     "output_type": "execute_result"
    }
   ],
   "source": [
    "test_stage1 = pd.read_csv('test_stage_1.tsv', sep=\"\\t\")\n",
    "for x in [\"Text\", \"Pronoun\", \"A\", \"B\"]:\n",
    "    test_stage1[x] = test_stage1[x].str.lower()\n",
    "test_stage1.head()"
   ]
  },
  {
   "cell_type": "code",
   "execution_count": 9,
   "metadata": {},
   "outputs": [
    {
     "data": {
      "text/plain": [
       "'he'"
      ]
     },
     "execution_count": 9,
     "metadata": {},
     "output_type": "execute_result"
    }
   ],
   "source": [
    "set(test_stage1[\"Pronoun\"])\n",
    "min(test_stage1[\"Pronoun\"])"
   ]
  },
  {
   "cell_type": "markdown",
   "metadata": {},
   "source": [
    "### Stage 2 dataset"
   ]
  },
  {
   "cell_type": "code",
   "execution_count": 10,
   "metadata": {},
   "outputs": [
    {
     "data": {
      "text/html": [
       "<div>\n",
       "<style scoped>\n",
       "    .dataframe tbody tr th:only-of-type {\n",
       "        vertical-align: middle;\n",
       "    }\n",
       "\n",
       "    .dataframe tbody tr th {\n",
       "        vertical-align: top;\n",
       "    }\n",
       "\n",
       "    .dataframe thead th {\n",
       "        text-align: right;\n",
       "    }\n",
       "</style>\n",
       "<table border=\"1\" class=\"dataframe\">\n",
       "  <thead>\n",
       "    <tr style=\"text-align: right;\">\n",
       "      <th></th>\n",
       "      <th>ID</th>\n",
       "      <th>Text</th>\n",
       "      <th>Pronoun</th>\n",
       "      <th>Pronoun-offset</th>\n",
       "      <th>A</th>\n",
       "      <th>A-offset</th>\n",
       "      <th>B</th>\n",
       "      <th>B-offset</th>\n",
       "      <th>URL</th>\n",
       "    </tr>\n",
       "  </thead>\n",
       "  <tbody>\n",
       "    <tr>\n",
       "      <th>0</th>\n",
       "      <td>000075809a8e6b062f5fb3c191a8ed52</td>\n",
       "      <td>for the u.s. under secretary of state, see luc...</td>\n",
       "      <td>she</td>\n",
       "      <td>310</td>\n",
       "      <td>lucy benson</td>\n",
       "      <td>59</td>\n",
       "      <td>kerrie taylor</td>\n",
       "      <td>160</td>\n",
       "      <td>http://en.wikipedia.org/wiki/Lucy_Benson</td>\n",
       "    </tr>\n",
       "    <tr>\n",
       "      <th>1</th>\n",
       "      <td>0005d0f3b0a6c9ffbd31a48453029911</td>\n",
       "      <td>after this match, she reached her new career h...</td>\n",
       "      <td>she</td>\n",
       "      <td>334</td>\n",
       "      <td>kudryavtseva</td>\n",
       "      <td>182</td>\n",
       "      <td>maria sharapova</td>\n",
       "      <td>259</td>\n",
       "      <td>http://en.wikipedia.org/wiki/Alla_Kudryavtseva</td>\n",
       "    </tr>\n",
       "    <tr>\n",
       "      <th>2</th>\n",
       "      <td>0007775c40bedd4147a0573d66dc28f8</td>\n",
       "      <td>in the same way in his preface of the books of...</td>\n",
       "      <td>his</td>\n",
       "      <td>298</td>\n",
       "      <td>ezra</td>\n",
       "      <td>191</td>\n",
       "      <td>jerome</td>\n",
       "      <td>323</td>\n",
       "      <td>http://en.wikipedia.org/wiki/Development_of_th...</td>\n",
       "    </tr>\n",
       "    <tr>\n",
       "      <th>3</th>\n",
       "      <td>001194e3fe1234d00198ef6bba4cc588</td>\n",
       "      <td>anita's so-called homeless mate machteld steen...</td>\n",
       "      <td>she</td>\n",
       "      <td>313</td>\n",
       "      <td>dian</td>\n",
       "      <td>205</td>\n",
       "      <td>anita</td>\n",
       "      <td>278</td>\n",
       "      <td>http://en.wikipedia.org/wiki/Dian_Alberts</td>\n",
       "    </tr>\n",
       "    <tr>\n",
       "      <th>4</th>\n",
       "      <td>0014bb7085278ef3f9b74f14771caca9</td>\n",
       "      <td>by march, she was the king's mistress, install...</td>\n",
       "      <td>her</td>\n",
       "      <td>362</td>\n",
       "      <td>pompadour</td>\n",
       "      <td>262</td>\n",
       "      <td>jeanne antoinette</td>\n",
       "      <td>336</td>\n",
       "      <td>http://en.wikipedia.org/wiki/Madame_de_Pompadour</td>\n",
       "    </tr>\n",
       "  </tbody>\n",
       "</table>\n",
       "</div>"
      ],
      "text/plain": [
       "                                 ID  \\\n",
       "0  000075809a8e6b062f5fb3c191a8ed52   \n",
       "1  0005d0f3b0a6c9ffbd31a48453029911   \n",
       "2  0007775c40bedd4147a0573d66dc28f8   \n",
       "3  001194e3fe1234d00198ef6bba4cc588   \n",
       "4  0014bb7085278ef3f9b74f14771caca9   \n",
       "\n",
       "                                                Text Pronoun  Pronoun-offset  \\\n",
       "0  for the u.s. under secretary of state, see luc...     she             310   \n",
       "1  after this match, she reached her new career h...     she             334   \n",
       "2  in the same way in his preface of the books of...     his             298   \n",
       "3  anita's so-called homeless mate machteld steen...     she             313   \n",
       "4  by march, she was the king's mistress, install...     her             362   \n",
       "\n",
       "              A  A-offset                  B  B-offset  \\\n",
       "0   lucy benson        59      kerrie taylor       160   \n",
       "1  kudryavtseva       182    maria sharapova       259   \n",
       "2          ezra       191             jerome       323   \n",
       "3          dian       205              anita       278   \n",
       "4     pompadour       262  jeanne antoinette       336   \n",
       "\n",
       "                                                 URL  \n",
       "0           http://en.wikipedia.org/wiki/Lucy_Benson  \n",
       "1     http://en.wikipedia.org/wiki/Alla_Kudryavtseva  \n",
       "2  http://en.wikipedia.org/wiki/Development_of_th...  \n",
       "3          http://en.wikipedia.org/wiki/Dian_Alberts  \n",
       "4   http://en.wikipedia.org/wiki/Madame_de_Pompadour  "
      ]
     },
     "execution_count": 10,
     "metadata": {},
     "output_type": "execute_result"
    }
   ],
   "source": [
    "test_stage2 = pd.read_csv('test_stage_2.tsv', sep=\"\\t\")\n",
    "for x in [\"Text\", \"Pronoun\", \"A\", \"B\"]:\n",
    "    test_stage2[x] = test_stage2[x].str.lower()\n",
    "test_stage2.head()"
   ]
  },
  {
   "cell_type": "code",
   "execution_count": 11,
   "metadata": {},
   "outputs": [
    {
     "data": {
      "text/plain": [
       "{'he', 'her', 'him', 'his', 'she'}"
      ]
     },
     "execution_count": 11,
     "metadata": {},
     "output_type": "execute_result"
    }
   ],
   "source": [
    "set(gap_validation[\"Pronoun\"])"
   ]
  },
  {
   "cell_type": "markdown",
   "metadata": {},
   "source": [
    "## Load Spacy and NeuralCoref"
   ]
  },
  {
   "cell_type": "code",
   "execution_count": 12,
   "metadata": {},
   "outputs": [
    {
     "data": {
      "text/plain": [
       "<spacy.lang.en.English at 0x7f0e19888278>"
      ]
     },
     "execution_count": 12,
     "metadata": {},
     "output_type": "execute_result"
    }
   ],
   "source": [
    "nlp = spacy.load('en')\n",
    "nlp"
   ]
  },
  {
   "cell_type": "code",
   "execution_count": 13,
   "metadata": {},
   "outputs": [
    {
     "data": {
      "text/plain": [
       "<module 'neuralcoref' from '/home/gaspare/git/Gendered-Pronoun-Resolution/neuralcoref/venv/lib/python3.7/site-packages/neuralcoref/__init__.py'>"
      ]
     },
     "execution_count": 13,
     "metadata": {},
     "output_type": "execute_result"
    }
   ],
   "source": [
    "neuralcoref.add_to_pipe(nlp)\n",
    "neuralcoref"
   ]
  },
  {
   "cell_type": "code",
   "execution_count": 21,
   "metadata": {},
   "outputs": [],
   "source": [
    "## NeuralCoref handler function"
   ]
  },
  {
   "cell_type": "code",
   "execution_count": 48,
   "metadata": {},
   "outputs": [],
   "source": [
    "def neuralCorefHandler(text):\n",
    "    doc = nlp(text)\n",
    "\n",
    "    idx = 0\n",
    "    A_coref = False\n",
    "    B_coref = False\n",
    "    \n",
    "    for k in doc:\n",
    "        idx += text.index(str(k))\n",
    "\n",
    "        if idx == example[\"Pronoun-offset\"]:\n",
    "            cluster = k._.coref_clusters\n",
    "            for c in cluster:\n",
    "                for d in c:\n",
    "                    A_coref = A_coref or example[\"A\"] in str(d)\n",
    "                    B_coref = B_coref or example[\"B\"] in str(d)\n",
    "        idx += len(k)\n",
    "        text = text[text.index(str(k))+len(k):]\n",
    "    return A_coref, B_coref, doc\n",
    "    "
   ]
  },
  {
   "cell_type": "markdown",
   "metadata": {},
   "source": [
    "## CoReference example"
   ]
  },
  {
   "cell_type": "code",
   "execution_count": 27,
   "metadata": {},
   "outputs": [
    {
     "name": "stdout",
     "output_type": "stream",
     "text": [
      "TEXT = he grew up in evanston, illinois the second oldest of five children including his brothers, fred and gordon and sisters, marge (peppy) and marilyn. his high school days were spent at new trier high school in winnetka, illinois. mackenzie studied with bernard leach from 1949 to 1952. his simple, wheel-thrown functional pottery is heavily influenced by the oriental aesthetic of shoji hamada and kanjiro kawai.\n",
      "PRONOUN = his 284\n",
      "A = mackenzie 228\n",
      "B = bernard leach 251\n"
     ]
    }
   ],
   "source": [
    "example = gap_development.loc[1]\n",
    "print(\"TEXT =\", example[\"Text\"])\n",
    "print(\"PRONOUN =\", example[\"Pronoun\"], example[\"Pronoun-offset\"])\n",
    "print(\"A =\", example[\"A\"], example[\"A-offset\"])\n",
    "print(\"B =\", example[\"B\"], example[\"B-offset\"])"
   ]
  },
  {
   "cell_type": "code",
   "execution_count": 63,
   "metadata": {},
   "outputs": [],
   "source": [
    "with open(\"gap-validation-submission.tsv\", \"w\") as gap_validation_submission:\n",
    "    for i in range(1): # len(gap_development)):\n",
    "        line = gap_development.loc[i]\n",
    "        A_coref, B_coref, doc = neuralCorefHandler(line[\"Text\"])\n",
    "        gap_validation_submission.write(line[\"ID\"] + \",\" + str(0.3333) + \",\" + str(0.3333) + \",\" + str(0.3333) + \"\\n\")\n",
    "        "
   ]
  },
  {
   "cell_type": "code",
   "execution_count": 73,
   "metadata": {},
   "outputs": [
    {
     "name": "stdout",
     "output_type": "stream",
     "text": [
      "zoe 0\n",
      "telford 1\n",
      "-- 2\n",
      "played 3\n",
      "the 4\n",
      "police 5\n",
      "officer 6\n",
      "girlfriend 7\n",
      "of 8\n",
      "simon 9\n",
      ", 10\n",
      "maggie 11\n",
      ". 12\n",
      "dumped 13\n",
      "by 14\n",
      "simon 15\n",
      "in 16\n",
      "the 17\n",
      "final 18\n",
      "episode 19\n",
      "of 20\n",
      "series 21\n",
      "1 22\n",
      ", 23\n",
      "after 24\n",
      "he 25\n",
      "slept 26\n",
      "with 27\n",
      "jenny 28\n",
      ", 29\n",
      "and 30\n",
      "is 31\n",
      "not 32\n",
      "seen 33\n",
      "again 34\n",
      ". 35\n",
      "phoebe 36\n",
      "thomas 37\n",
      "played 38\n",
      "cheryl 39\n",
      "cassidy 40\n",
      ", 41\n",
      "pauline 42\n",
      "'s 43\n",
      "friend 44\n",
      "and 45\n",
      "also 46\n",
      "a 47\n",
      "year 48\n",
      "11 49\n",
      "pupil 50\n",
      "in 51\n",
      "simon 52\n",
      "'s 53\n",
      "class 54\n",
      ". 55\n",
      "dumped 56\n",
      "her 57\n",
      "boyfriend 58\n",
      "following 59\n",
      "simon 60\n",
      "'s 61\n",
      "advice 62\n",
      "after 63\n",
      "he 64\n",
      "would 65\n",
      "n't 66\n",
      "have 67\n",
      "sex 68\n",
      "with 69\n",
      "her 70\n",
      "but 71\n",
      "later 72\n",
      "realised 73\n",
      "this 74\n",
      "was 75\n",
      "due 76\n",
      "to 77\n",
      "him 78\n",
      "catching 79\n",
      "crabs 80\n",
      "off 81\n",
      "her 82\n",
      "friend 83\n",
      "pauline 84\n",
      ". 85\n"
     ]
    }
   ],
   "source": [
    "line = gap_development.loc[0]\n",
    "A_coref, B_coref, doc = neuralCorefHandler(line[\"Text\"])\n",
    "\n",
    "for sent in doc.sents:\n",
    "    for token in sent:\n",
    "        print(token.text, token.i)"
   ]
  },
  {
   "cell_type": "markdown",
   "metadata": {},
   "source": [
    "## Scorer"
   ]
  },
  {
   "cell_type": "code",
   "execution_count": 61,
   "metadata": {},
   "outputs": [
    {
     "ename": "AttributeError",
     "evalue": "'NoneType' object has no attribute 'lower'",
     "output_type": "error",
     "traceback": [
      "\u001b[0;31m---------------------------------------------------------------------------\u001b[0m",
      "\u001b[0;31mAttributeError\u001b[0m                            Traceback (most recent call last)",
      "\u001b[0;32m<ipython-input-61-7fd5acd36561>\u001b[0m in \u001b[0;36m<module>\u001b[0;34m\u001b[0m\n\u001b[0;32m----> 1\u001b[0;31m \u001b[0mgap_scorer\u001b[0m\u001b[0;34m.\u001b[0m\u001b[0mrun_scorer\u001b[0m\u001b[0;34m(\u001b[0m\u001b[0;34m\"gap-validation.tsv\"\u001b[0m\u001b[0;34m,\u001b[0m \u001b[0;34m\"gap-validation-submission.tsv\"\u001b[0m\u001b[0;34m)\u001b[0m\u001b[0;34m\u001b[0m\u001b[0;34m\u001b[0m\u001b[0m\n\u001b[0m",
      "\u001b[0;32m~/git/Gendered-Pronoun-Resolution/neuralcoref/gap_scorer.py\u001b[0m in \u001b[0;36mrun_scorer\u001b[0;34m(gold_tsv, system_tsv)\u001b[0m\n\u001b[1;32m    238\u001b[0m   \u001b[0;32massert\u001b[0m \u001b[0mgold_annotations\u001b[0m\u001b[0;34m,\u001b[0m \u001b[0;34m'No gold annotations read!'\u001b[0m\u001b[0;34m\u001b[0m\u001b[0;34m\u001b[0m\u001b[0m\n\u001b[1;32m    239\u001b[0m \u001b[0;34m\u001b[0m\u001b[0m\n\u001b[0;32m--> 240\u001b[0;31m   \u001b[0msystem_annotations\u001b[0m \u001b[0;34m=\u001b[0m \u001b[0mread_annotations\u001b[0m\u001b[0;34m(\u001b[0m\u001b[0msystem_tsv\u001b[0m\u001b[0;34m,\u001b[0m \u001b[0mis_gold\u001b[0m\u001b[0;34m=\u001b[0m\u001b[0;32mFalse\u001b[0m\u001b[0;34m)\u001b[0m\u001b[0;34m\u001b[0m\u001b[0;34m\u001b[0m\u001b[0m\n\u001b[0m\u001b[1;32m    241\u001b[0m   \u001b[0;32massert\u001b[0m \u001b[0msystem_annotations\u001b[0m\u001b[0;34m,\u001b[0m \u001b[0;34m'No system annotations read!'\u001b[0m\u001b[0;34m\u001b[0m\u001b[0;34m\u001b[0m\u001b[0m\n\u001b[1;32m    242\u001b[0m \u001b[0;34m\u001b[0m\u001b[0m\n",
      "\u001b[0;32m~/git/Gendered-Pronoun-Resolution/neuralcoref/gap_scorer.py\u001b[0m in \u001b[0;36mread_annotations\u001b[0;34m(filename, is_gold)\u001b[0m\n\u001b[1;32m    137\u001b[0m         \u001b[0;32mcontinue\u001b[0m\u001b[0;34m\u001b[0m\u001b[0;34m\u001b[0m\u001b[0m\n\u001b[1;32m    138\u001b[0m \u001b[0;34m\u001b[0m\u001b[0m\n\u001b[0;32m--> 139\u001b[0;31m       \u001b[0mannotations\u001b[0m\u001b[0;34m[\u001b[0m\u001b[0mexample_id\u001b[0m\u001b[0;34m]\u001b[0m\u001b[0;34m.\u001b[0m\u001b[0mname_a_coref\u001b[0m \u001b[0;34m=\u001b[0m \u001b[0mis_true\u001b[0m\u001b[0;34m(\u001b[0m\u001b[0mrow\u001b[0m\u001b[0;34m[\u001b[0m\u001b[0;34m'A-coref'\u001b[0m\u001b[0;34m]\u001b[0m\u001b[0;34m)\u001b[0m\u001b[0;34m\u001b[0m\u001b[0;34m\u001b[0m\u001b[0m\n\u001b[0m\u001b[1;32m    140\u001b[0m       \u001b[0mannotations\u001b[0m\u001b[0;34m[\u001b[0m\u001b[0mexample_id\u001b[0m\u001b[0;34m]\u001b[0m\u001b[0;34m.\u001b[0m\u001b[0mname_b_coref\u001b[0m \u001b[0;34m=\u001b[0m \u001b[0mis_true\u001b[0m\u001b[0;34m(\u001b[0m\u001b[0mrow\u001b[0m\u001b[0;34m[\u001b[0m\u001b[0;34m'B-coref'\u001b[0m\u001b[0;34m]\u001b[0m\u001b[0;34m)\u001b[0m\u001b[0;34m\u001b[0m\u001b[0;34m\u001b[0m\u001b[0m\n\u001b[1;32m    141\u001b[0m       \u001b[0;32mif\u001b[0m \u001b[0mis_gold\u001b[0m\u001b[0;34m:\u001b[0m\u001b[0;34m\u001b[0m\u001b[0;34m\u001b[0m\u001b[0m\n",
      "\u001b[0;32m~/git/Gendered-Pronoun-Resolution/neuralcoref/gap_scorer.py\u001b[0m in \u001b[0;36mis_true\u001b[0;34m(value)\u001b[0m\n\u001b[1;32m    113\u001b[0m \u001b[0;34m\u001b[0m\u001b[0m\n\u001b[1;32m    114\u001b[0m   \u001b[0;32mdef\u001b[0m \u001b[0mis_true\u001b[0m\u001b[0;34m(\u001b[0m\u001b[0mvalue\u001b[0m\u001b[0;34m)\u001b[0m\u001b[0;34m:\u001b[0m\u001b[0;34m\u001b[0m\u001b[0;34m\u001b[0m\u001b[0m\n\u001b[0;32m--> 115\u001b[0;31m     \u001b[0;32mif\u001b[0m \u001b[0mvalue\u001b[0m\u001b[0;34m.\u001b[0m\u001b[0mlower\u001b[0m\u001b[0;34m(\u001b[0m\u001b[0;34m)\u001b[0m \u001b[0;34m==\u001b[0m \u001b[0;34m'true'\u001b[0m\u001b[0;34m:\u001b[0m\u001b[0;34m\u001b[0m\u001b[0;34m\u001b[0m\u001b[0m\n\u001b[0m\u001b[1;32m    116\u001b[0m       \u001b[0;32mreturn\u001b[0m \u001b[0;32mTrue\u001b[0m\u001b[0;34m\u001b[0m\u001b[0;34m\u001b[0m\u001b[0m\n\u001b[1;32m    117\u001b[0m     \u001b[0;32melif\u001b[0m \u001b[0mvalue\u001b[0m\u001b[0;34m.\u001b[0m\u001b[0mlower\u001b[0m\u001b[0;34m(\u001b[0m\u001b[0;34m)\u001b[0m \u001b[0;34m==\u001b[0m \u001b[0;34m'false'\u001b[0m\u001b[0;34m:\u001b[0m\u001b[0;34m\u001b[0m\u001b[0;34m\u001b[0m\u001b[0m\n",
      "\u001b[0;31mAttributeError\u001b[0m: 'NoneType' object has no attribute 'lower'"
     ]
    }
   ],
   "source": [
    "gap_scorer.run_scorer(\"gap-validation.tsv\", \"gap-validation-submission.tsv\")"
   ]
  }
 ],
 "metadata": {
  "kernelspec": {
   "display_name": "Python 3",
   "language": "python",
   "name": "python3"
  },
  "language_info": {
   "codemirror_mode": {
    "name": "ipython",
    "version": 3
   },
   "file_extension": ".py",
   "mimetype": "text/x-python",
   "name": "python",
   "nbconvert_exporter": "python",
   "pygments_lexer": "ipython3",
   "version": "3.7.3"
  }
 },
 "nbformat": 4,
 "nbformat_minor": 4
}
